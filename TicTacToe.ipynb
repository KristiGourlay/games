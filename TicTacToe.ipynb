{
 "cells": [
  {
   "cell_type": "code",
   "execution_count": null,
   "metadata": {},
   "outputs": [],
   "source": [
    "class TicTacToe():\n",
    "    \n",
    "    stop = 0\n",
    "    \n",
    "    board = [['x', 'x', 'x', 'x', 'x', 'x', 'x'],\n",
    "            ['x', 'x', 'x', 'x', 'x', 'x', 'x'],\n",
    "            ['x', 'x', 'x', 'x', 'x', 'x', 'x'],\n",
    "            ['x', 'x', 'x', 'x', 'x', 'x', 'x'],\n",
    "            ['x', 'x', 'x', 'x', 'x', 'x', 'x'],\n",
    "            ['x', 'x', 'x', 'x', 'x', 'x', 'x'],\n",
    "            ['x', 'x', 'x', 'x', 'x', 'x', 'x']]\n",
    "    \n",
    "    def __init__(self, board=board):\n",
    "        self.board = TicTacToe.board\n",
    "        \n",
    "    def show(self):\n",
    "        for row in TicTacToe.board:\n",
    "            print(' '.join(row))\n",
    "        \n",
    "        \n",
    "    def player1(self, move):\n",
    "        if move > 6 or move < 0:\n",
    "                print(f'No such space. Try Again!')\n",
    "                move = int(input())\n",
    "        for i in range(0, 7):\n",
    "            if move == i:\n",
    "                for x in list(range(0, 7))[::-1]:\n",
    "                    if TicTacToe.board[x][i] == 'x':\n",
    "                        TicTacToe.board[x][i] = 'R'\n",
    "                        self.show()\n",
    "                        self.check()\n",
    "                        break\n",
    "                        \n",
    "    def player2(self, move):\n",
    "        if move > 6 or move < 0:\n",
    "                print(f'No such space. Try Again!')\n",
    "                move = int(input())\n",
    "        for i in range(0, 7):\n",
    "            if move == i:\n",
    "                for x in list(range(0, 7))[::-1]:\n",
    "                    if TicTacToe.board[x][i] == 'x':\n",
    "                        TicTacToe.board[x][i] = 'B'\n",
    "                        self.show()\n",
    "                        self.check()\n",
    "                        break\n",
    "    \n",
    "    \n",
    "    def check(self):\n",
    "        for i in range(0, 7):\n",
    "            for x in range(0, 4):\n",
    "                if TicTacToe.board[i][x] != 'x':\n",
    "                    if TicTacToe.board[i][x] == TicTacToe.board[i][x+1] == TicTacToe.board[i][x+2] == TicTacToe.board[i][x+3]:\n",
    "                        print(f'{TicTacToe.board[i][x]} wins!')\n",
    "                        TicTacToe.stop = 1\n",
    "                    \n",
    "                        \n",
    "                elif TicTacToe.board[x][i] != 'x':\n",
    "                    if TicTacToe.board[x][i] == TicTacToe.board[x+1][i] == TicTacToe.board[x+2][i] == TicTacToe.board[x+3][i]:\n",
    "                        print(f'{TicTacToe.board[x][i]} wins!')\n",
    "                        TicTacToe.stop = 1\n",
    "                   \n",
    "                        \n",
    "        for i in range(0, 4):\n",
    "            for x in range(0, 4):\n",
    "                if TicTacToe.board[i][x] != 'x':\n",
    "                    if TicTacToe.board[i][x] == TicTacToe.board[i+1][x+1] == TicTacToe.board[i+2][x+2] == TicTacToe.board[i+3][x+3]:\n",
    "                        print(f'{TicTacToe.board[i][x]} wins!')\n",
    "                        TicTacToe.stop = 1\n",
    "                      \n",
    "                        \n",
    "        for i in range(0, 4):\n",
    "            for x in range(3, 7):\n",
    "                if TicTacToe.board[i][x] != 'x':\n",
    "                    if TicTacToe.board[i][x] == TicTacToe.board[i+1][x-1] == TicTacToe.board[i+2][x-2] == TicTacToe.board[i+3][x-3]:\n",
    "                        print(f'{TicTacToe.board[i][x]} wins!')\n",
    "                        TicTacToe.stop = 1\n",
    "                      \n",
    "                        \n",
    "    def activate(self):\n",
    "        while TicTacToe.stop != 1:\n",
    "            player_one = self.player1(int(input(f'Player 1: ')))\n",
    "            if TicTacToe.stop != 1:\n",
    "                player_two = self.player2(int(input(f'Player 2: ')))\n"
   ]
  },
  {
   "cell_type": "code",
   "execution_count": null,
   "metadata": {},
   "outputs": [],
   "source": [
    "t = TicTacToe()"
   ]
  },
  {
   "cell_type": "code",
   "execution_count": null,
   "metadata": {},
   "outputs": [],
   "source": [
    "t.activate()"
   ]
  },
  {
   "cell_type": "code",
   "execution_count": null,
   "metadata": {},
   "outputs": [],
   "source": [
    "import random\n",
    "\n",
    "class TicTacToeComputer(TicTacToe):\n",
    "    \n",
    "    board = TicTacToe.board\n",
    "    \n",
    "    def __init__(self, board=board):\n",
    "        self.board = TicTacToe.board\n",
    "    \n",
    "    \n",
    "    def easy_computer(self, move=random.randint):\n",
    "        self.move = random.randint(0,7)\n",
    "        self.player2(self.move)\n",
    "\n",
    "                        \n",
    "    def activate(self):\n",
    "        while TicTacToe.stop != 1:\n",
    "            player_one = self.player1(int(input(f'Player 1: ')))\n",
    "            if TicTacToe.stop != 1:\n",
    "                player_two = self.easy_computer()\n",
    "    \n",
    "    \n",
    "    \n",
    "    "
   ]
  },
  {
   "cell_type": "code",
   "execution_count": null,
   "metadata": {},
   "outputs": [],
   "source": [
    "v = TicTacToeComputer()"
   ]
  },
  {
   "cell_type": "code",
   "execution_count": null,
   "metadata": {},
   "outputs": [],
   "source": [
    "v.computer()"
   ]
  },
  {
   "cell_type": "code",
   "execution_count": null,
   "metadata": {},
   "outputs": [],
   "source": [
    "v.activate()"
   ]
  },
  {
   "cell_type": "code",
   "execution_count": null,
   "metadata": {},
   "outputs": [],
   "source": []
  }
 ],
 "metadata": {
  "kernelspec": {
   "display_name": "Python 3",
   "language": "python",
   "name": "python3"
  },
  "language_info": {
   "codemirror_mode": {
    "name": "ipython",
    "version": 3
   },
   "file_extension": ".py",
   "mimetype": "text/x-python",
   "name": "python",
   "nbconvert_exporter": "python",
   "pygments_lexer": "ipython3",
   "version": "3.7.3"
  }
 },
 "nbformat": 4,
 "nbformat_minor": 2
}
