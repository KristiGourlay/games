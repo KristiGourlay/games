{
 "cells": [
  {
   "cell_type": "code",
   "execution_count": null,
   "metadata": {},
   "outputs": [],
   "source": [
    "import pandas as pd\n",
    "import random"
   ]
  },
  {
   "cell_type": "code",
   "execution_count": null,
   "metadata": {},
   "outputs": [],
   "source": [
    "words = pd.read_csv('helpers/words.txt', header=None)\n",
    "words = words[0].tolist()"
   ]
  },
  {
   "cell_type": "code",
   "execution_count": null,
   "metadata": {},
   "outputs": [],
   "source": [
    "class HangMan():\n",
    "    \n",
    "    puz = ''\n",
    "    bank = []\n",
    "    wrong_guesses = 0\n",
    "    \n",
    "    def __init__(self, word=random.choice(words)):\n",
    "        self.word = random.choice(words)\n",
    " \n",
    "    \n",
    "    def show(self):\n",
    "        if HangMan.puz == '':\n",
    "            return len(self.word) * '-'\n",
    "        else:\n",
    "            return HangMan.puz\n",
    "            \n",
    "    def update(self):\n",
    "        HangMan.puz = self.show()\n",
    "        if self.word.count(self.user_guess) == 1:\n",
    "            idx = self.word.index(self.user_guess)\n",
    "            HangMan.puz = HangMan.puz[:idx] + self.user_guess + HangMan.puz[idx+1:]\n",
    "            print(HangMan.puz)\n",
    "            return HangMan.puz\n",
    "        else:\n",
    "            indices = [i for i, x in enumerate(self.word) if x == self.user_guess]\n",
    "            for idx in indices:\n",
    "                HangMan.puz = HangMan.puz[:idx] + self.user_guess + HangMan.puz[idx+1:]\n",
    "            print(HangMan.puz)\n",
    "            return HangMan.puz\n",
    "        \n",
    "    def guess(self):\n",
    "        while '-' in self.show():\n",
    "            self.user_guess = str(input('Guess a Letter: '))\n",
    "            if self.user_guess in HangMan.bank:\n",
    "                print(f'You already guessed {self.user_guess}. Guess again!')\n",
    "                \n",
    "            elif self.user_guess in self.word:\n",
    "                HangMan.bank.append(self.user_guess)\n",
    "                if self.word.count(self.user_guess) == 1:\n",
    "                    print(f'Correct! There is {self.word.count(self.user_guess)} \"{self.user_guess}\"')\n",
    "                    self.update()\n",
    "                else:\n",
    "                    print(f'Correct! There are {self.word.count(self.user_guess)} \"{self.user_guess}\"s')\n",
    "                    self.update()\n",
    "\n",
    "\n",
    "            else:\n",
    "                HangMan.bank.append(self.user_guess)\n",
    "                if HangMan.wrong_guesses < 10:\n",
    "                    HangMan.wrong_guesses += 1\n",
    "                    print(f'Sorry! There is no \"{self.user_guess}\"')\n",
    "                    self.update()\n",
    "                    \n",
    "                else:\n",
    "                    return f'Sorry! You have hit 10 guesses! You Lose! The word was \"{self.word}\"'\n",
    "        \n",
    "        return f'YOU WIN! The word was \"{self.word}\"'"
   ]
  },
  {
   "cell_type": "code",
   "execution_count": null,
   "metadata": {},
   "outputs": [],
   "source": [
    "h = HangMan()"
   ]
  },
  {
   "cell_type": "code",
   "execution_count": null,
   "metadata": {},
   "outputs": [],
   "source": [
    "h.word"
   ]
  },
  {
   "cell_type": "code",
   "execution_count": null,
   "metadata": {},
   "outputs": [],
   "source": [
    "h.guess()"
   ]
  },
  {
   "cell_type": "code",
   "execution_count": null,
   "metadata": {},
   "outputs": [],
   "source": []
  }
 ],
 "metadata": {
  "kernelspec": {
   "display_name": "Python 3",
   "language": "python",
   "name": "python3"
  },
  "language_info": {
   "codemirror_mode": {
    "name": "ipython",
    "version": 3
   },
   "file_extension": ".py",
   "mimetype": "text/x-python",
   "name": "python",
   "nbconvert_exporter": "python",
   "pygments_lexer": "ipython3",
   "version": "3.7.3"
  }
 },
 "nbformat": 4,
 "nbformat_minor": 2
}
